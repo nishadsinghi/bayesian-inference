{
  "nbformat": 4,
  "nbformat_minor": 0,
  "metadata": {
    "colab": {
      "name": "metropolis_hastings.ipynb",
      "provenance": []
    },
    "kernelspec": {
      "name": "python3",
      "display_name": "Python 3"
    }
  },
  "cells": [
    {
      "cell_type": "code",
      "metadata": {
        "id": "DvS1nXYOJzpN",
        "outputId": "5c0fb0da-8a1a-45d1-fc21-2378a89c24b8",
        "colab": {
          "base_uri": "https://localhost:8080/",
          "height": 51
        }
      },
      "source": [
        "!pip install anytree"
      ],
      "execution_count": null,
      "outputs": [
        {
          "output_type": "stream",
          "text": [
            "Requirement already satisfied: anytree in /usr/local/lib/python3.6/dist-packages (2.8.0)\n",
            "Requirement already satisfied: six>=1.9.0 in /usr/local/lib/python3.6/dist-packages (from anytree) (1.12.0)\n"
          ],
          "name": "stdout"
        }
      ]
    },
    {
      "cell_type": "code",
      "metadata": {
        "id": "C85n74Agx49l"
      },
      "source": [
        "from anytree import Node, RenderTree\n",
        "from anytree.search import findall\n",
        "import numpy as np"
      ],
      "execution_count": null,
      "outputs": []
    },
    {
      "cell_type": "code",
      "metadata": {
        "id": "e7UhDmqLBWu6"
      },
      "source": [
        "getNameOfChildNode = lambda string, rule: string.replace(rule[1], rule[0])\n",
        "getRuleProbability = lambda rule: rule[2]\n",
        "\n",
        "def expandNode(node, allIntermediateRules):\n",
        "  string = node.name\n",
        "  nodeProb = node.probability\n",
        "  for rule in allIntermediateRules:\n",
        "    nameOfChildNode = getNameOfChildNode(string, rule)\n",
        "    if nameOfChildNode != string:\n",
        "      childProb = nodeProb * getRuleProbability(rule)\n",
        "      childNode = Node(nameOfChildNode, parent=node, probability=childProb)\n",
        "      expandNode(childNode, allIntermediateRules)\n",
        "\n",
        "def rreplace(s, old, new, occurrence):\n",
        "  li = s.rsplit(old, occurrence)\n",
        "  return new.join(li)"
      ],
      "execution_count": null,
      "outputs": []
    },
    {
      "cell_type": "code",
      "metadata": {
        "id": "H9j_KvWMY0tt",
        "outputId": "231f0da9-5437-4f63-ab56-c0413946807e",
        "colab": {
          "base_uri": "https://localhost:8080/",
          "height": 34
        }
      },
      "source": [
        "def computeLikelihoodOfString(string, theta):\n",
        "  terminalRule = (\"Y\", \"b\", 0.2)\n",
        "  allIntermediateRules = [(\"X\", \"aX\", 0.8), (\"X\", \"bY\", 0.2), (\"Y\", \"bY\", 0.2), (\"Y\", \"bX\", 0.2)]\n",
        "  startingRules = [(\"S\", \"X\", theta), (\"S\", \"Y\", 1-theta)]\n",
        "  startingSymbol = \"S\"\n",
        "\n",
        "  root = Node(string, parent=None, probability=1)\n",
        "  # apply terminal rule\n",
        "  firstChild = Node(rreplace(string, terminalRule[1], terminalRule[0], 1), parent=root, probability=root.probability*terminalRule[2])\n",
        "  # expand tree\n",
        "  expandNode(firstChild, allIntermediateRules)\n",
        "  # apply starting rules\n",
        "  for rule in startingRules:\n",
        "    allLeafNodesPossibleFromThisRule = findall(root, filter_=lambda node: node.name == rule[1])\n",
        "    [Node(rule[0], parent=leafNode, probability=leafNode.probability*rule[2]) for leafNode in allLeafNodesPossibleFromThisRule]\n",
        "\n",
        "  # compute string probability\n",
        "  allStartingSymbols = findall(root, filter_=lambda node: node.name == startingSymbol)\n",
        "  stringProbability = sum([node.probability for node in allStartingSymbols])\n",
        "\n",
        "  # for pre, fill, node in RenderTree(root):\n",
        "  #    print(\"%s%s   %.4f\" % (pre, node.name, node.probability))\n",
        "\n",
        "  return stringProbability\n",
        "\n",
        "computeLikelihoodOfString(\"aaabbbb\", 0.5)"
      ],
      "execution_count": null,
      "outputs": [
        {
          "output_type": "execute_result",
          "data": {
            "text/plain": [
              "0.0008192000000000004"
            ]
          },
          "metadata": {
            "tags": []
          },
          "execution_count": 52
        }
      ]
    },
    {
      "cell_type": "code",
      "metadata": {
        "id": "_Gl43gBAOpHf",
        "outputId": "6f249880-8ea1-4f10-e084-b466c4c0497f",
        "colab": {
          "base_uri": "https://localhost:8080/",
          "height": 1000
        }
      },
      "source": [
        "def forwardModel(theta):\n",
        "  startingSymbol = \"S\"\n",
        "  nonTerminals = {\"S\": [(\"X\", theta), (\"Y\", 1-theta)], \"X\": [(\"aX\", 0.8), (\"bY\", 0.2)], \"Y\": [(\"bY\", 0.2), (\"bX\", 0.2), (\"b\", 0.2)]}\n",
        "\n",
        "  string = startingSymbol\n",
        "  while(True):\n",
        "    print(string)\n",
        "    for nonTerminal in nonTerminals:\n",
        "      if nonTerminal in string:\n",
        "        rightSides = [rule[0] for rule in nonTerminals[nonTerminal]]\n",
        "        probabilities = [rule[1] for rule in nonTerminals[nonTerminal]]\n",
        "        sampledRightSide = np.random.choice(rightSides, 1, probabilities)[0]\n",
        "        newString = string.replace(nonTerminal, sampledRightSide)\n",
        "        continue\n",
        "    \n",
        "    if newString == string:\n",
        "      print(\"--------\")\n",
        "      return newString\n",
        "\n",
        "    string = newString\n",
        "\n",
        "\n",
        "generateObservations = lambda theta, numObservations: [forwardModel(theta) for _ in range(numObservations)]\n",
        "print(generateObservations(0.1, 10))"
      ],
      "execution_count": null,
      "outputs": [
        {
          "output_type": "stream",
          "text": [
            "S\n",
            "X\n",
            "aX\n",
            "abY\n",
            "abb\n",
            "--------\n",
            "S\n",
            "Y\n",
            "b\n",
            "--------\n",
            "S\n",
            "Y\n",
            "b\n",
            "--------\n",
            "S\n",
            "Y\n",
            "bY\n",
            "bbY\n",
            "bbb\n",
            "--------\n",
            "S\n",
            "Y\n",
            "b\n",
            "--------\n",
            "S\n",
            "Y\n",
            "bY\n",
            "bbY\n",
            "bbbY\n",
            "bbbbX\n",
            "bbbbbY\n",
            "bbbbbbX\n",
            "bbbbbbaX\n",
            "bbbbbbaaX\n",
            "bbbbbbaabY\n",
            "bbbbbbaabbX\n",
            "bbbbbbaabbaX\n",
            "bbbbbbaabbaaX\n",
            "bbbbbbaabbaabY\n",
            "bbbbbbaabbaabbY\n",
            "bbbbbbaabbaabbb\n",
            "--------\n",
            "S\n",
            "Y\n",
            "bY\n",
            "bbX\n",
            "bbaX\n",
            "bbabY\n",
            "bbabb\n",
            "--------\n",
            "S\n",
            "X\n",
            "bY\n",
            "bbX\n",
            "bbbY\n",
            "bbbb\n",
            "--------\n",
            "S\n",
            "Y\n",
            "bY\n",
            "bbX\n",
            "bbaX\n",
            "bbabY\n",
            "bbabbX\n",
            "bbabbbY\n",
            "bbabbbbX\n",
            "bbabbbbaX\n",
            "bbabbbbaaX\n",
            "bbabbbbaaaX\n",
            "bbabbbbaaaaX\n",
            "bbabbbbaaaaaX\n",
            "bbabbbbaaaaabY\n",
            "bbabbbbaaaaabbY\n",
            "bbabbbbaaaaabbbX\n",
            "bbabbbbaaaaabbbaX\n",
            "bbabbbbaaaaabbbabY\n",
            "bbabbbbaaaaabbbabb\n",
            "--------\n",
            "S\n",
            "Y\n",
            "bX\n",
            "bbY\n",
            "bbb\n",
            "--------\n",
            "['abb', 'b', 'b', 'bbb', 'b', 'bbbbbbaabbaabbb', 'bbabb', 'bbbb', 'bbabbbbaaaaabbbabb', 'bbb']\n"
          ],
          "name": "stdout"
        }
      ]
    },
    {
      "cell_type": "code",
      "metadata": {
        "id": "04s0BGekXfPK"
      },
      "source": [
        "class MetropolisHastings:\n",
        "  def __init__(self, thetaInitValue, proposalFunction, likelihood, prior, proposalKernel):\n",
        "    self.thetaInitValue = thetaInitValue\n",
        "    self.proposalFunction = proposalFunction\n",
        "    self.likelihood = likelihood\n",
        "    self.prior = prior\n",
        "    self.proposalKernel = proposalKernel\n",
        "\n",
        "  def __call__(self, numIterations, observations):\n",
        "      samples = []\n",
        "      theta = self.thetaInitValue\n",
        "      \n",
        "      for iteration in range(numIterations):\n",
        "        thetaProposed = self.proposalFunction(theta)\n",
        "        ratio = (self.likelihood(observations, thetaProposed)*self.prior(thetaProposed)*self.proposalKernel(theta, thetaProposed))/(self.likelihood(observations, theta)*self.prior(theta)*self.proposalKernel(thetaProposed, theta))\n",
        "        if np.random.rand() < ratio:\n",
        "            theta = thetaProposed\n",
        "        samples.append(theta)\n",
        "\n",
        "      return samples"
      ],
      "execution_count": null,
      "outputs": []
    },
    {
      "cell_type": "code",
      "metadata": {
        "id": "I3pIrp0WKZgZ"
      },
      "source": [
        "thetaInitValue = 0.5\n",
        "proposalFunction = lambda theta: np.random.rand()\n",
        "def likelihood(observations, theta):\n",
        "  product = 1\n",
        "  individualLikelihoods = [computeLikelihoodOfString(observation, theta) for observation in observations]\n",
        "  for likelihood in individualLikelihoods:\n",
        "    product *= likelihood\n",
        "  return product\n",
        "prior = lambda theta: 1\n",
        "proposalKernel = lambda new, old: 1\n",
        "\n",
        "mh = MetropolisHastings(thetaInitValue, proposalFunction, likelihood, prior, proposalKernel)\n",
        "observations = ['abb', 'b', 'b', 'bbb', 'b', 'bbbbbbaabbaabbb', 'bbabb', 'bbbb', 'bbabbbbaaaaabbbabb', 'bbb']\n",
        "samples = mh(50000, observations)"
      ],
      "execution_count": null,
      "outputs": []
    },
    {
      "cell_type": "code",
      "metadata": {
        "id": "Bk00YEB6PVZB",
        "outputId": "6afba366-bd8e-4e8e-f48b-6a10d21ddc18",
        "colab": {
          "base_uri": "https://localhost:8080/",
          "height": 370
        }
      },
      "source": [
        "import matplotlib.pyplot as plt\n",
        "plt.hist(samples)"
      ],
      "execution_count": null,
      "outputs": [
        {
          "output_type": "execute_result",
          "data": {
            "text/plain": [
              "(array([ 5787., 11511., 11314.,  8823.,  6014.,  3580.,  1865.,   799.,\n",
              "          263.,    44.]),\n",
              " array([7.20243140e-04, 9.36178519e-02, 1.86515461e-01, 2.79413070e-01,\n",
              "        3.72310678e-01, 4.65208287e-01, 5.58105896e-01, 6.51003505e-01,\n",
              "        7.43901113e-01, 8.36798722e-01, 9.29696331e-01]),\n",
              " <a list of 10 Patch objects>)"
            ]
          },
          "metadata": {
            "tags": []
          },
          "execution_count": 66
        },
        {
          "output_type": "display_data",
          "data": {
            "image/png": "[encoded data removed]",
            "text/plain": [
              "<Figure size 432x288 with 1 Axes>"
            ]
          },
          "metadata": {
            "tags": []
          }
        }
      ]
    },
    {
      "cell_type": "code",
      "metadata": {
        "id": "nhfMxd8EQCyk"
      },
      "source": [
        ""
      ],
      "execution_count": null,
      "outputs": []
    }
  ]
}